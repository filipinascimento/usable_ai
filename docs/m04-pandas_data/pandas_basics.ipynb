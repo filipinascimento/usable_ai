{
 "cells": [
  {
   "cell_type": "markdown",
   "metadata": {},
   "source": [
    " # Pandas Tutorial\n",
    "\n",
    " A comprehensive yet beginner-friendly tutorial on **pandas**, a popular Python library for data manipulation and analysis.\n",
    "\n",
    " We will cover:\n",
    "\n",
    " - Creating and loading data into a pandas `DataFrame`.\n",
    "\n",
    " - Basic indexing, merging, grouping, and computing statistics.\n",
    "\n",
    " - Modifying data with `.loc`, `.iloc`, and using functions like `value_counts()`.\n",
    "\n",
    "\n",
    "\n",
    " ## 1. Installation and Import\n",
    "\n",
    "\n",
    "\n",
    " Install pandas (if not already installed):\n"
   ]
  },
  {
   "cell_type": "code",
   "execution_count": null,
   "metadata": {},
   "outputs": [],
   "source": [
    "!pip install pandas"
   ]
  },
  {
   "cell_type": "markdown",
   "metadata": {},
   "source": [
    "\n",
    " Import pandas in Python:"
   ]
  },
  {
   "cell_type": "code",
   "execution_count": null,
   "metadata": {},
   "outputs": [],
   "source": [
    "import pandas as pd\n"
   ]
  },
  {
   "cell_type": "markdown",
   "metadata": {},
   "source": [
    " ## 2. Creating DataFrames\n",
    "\n",
    "\n",
    "\n",
    " A **DataFrame** is the core data structure in pandas—think of it like a table with rows and columns. You can create one from various sources.\n",
    "\n",
    "\n",
    "\n",
    " ### 2.1. From a Dictionary of Lists"
   ]
  },
  {
   "cell_type": "code",
   "execution_count": null,
   "metadata": {},
   "outputs": [],
   "source": [
    "data = {\n",
    "    \"Name\": [\"Alice\", \"Bob\", \"Charlie\"],\n",
    "    \"Age\": [25, 30, 35],\n",
    "    \"City\": [\"New York\", \"Los Angeles\", \"Chicago\"]\n",
    "}\n",
    "\n",
    "df = pd.DataFrame(data)\n",
    "print(df)\n"
   ]
  },
  {
   "cell_type": "markdown",
   "metadata": {},
   "source": [
    " ### 2.2. From a List of Dictionaries"
   ]
  },
  {
   "cell_type": "code",
   "execution_count": null,
   "metadata": {},
   "outputs": [],
   "source": [
    "data_list = [\n",
    "    {\"Name\": \"Alice\",   \"Age\": 25, \"City\": \"New York\"},\n",
    "    {\"Name\": \"Bob\",     \"Age\": 30, \"City\": \"Los Angeles\"},\n",
    "    {\"Name\": \"Charlie\", \"Age\": 35, \"City\": \"Chicago\"}\n",
    "]\n",
    "df2 = pd.DataFrame(data_list)\n",
    "print(df2)\n"
   ]
  },
  {
   "cell_type": "markdown",
   "metadata": {},
   "source": [
    " ### 2.3. From CSV or Excel\n",
    "\n",
    "\n",
    "\n",
    " Pandas makes it easy to read data from common file types:\n"
   ]
  },
  {
   "cell_type": "code",
   "execution_count": null,
   "metadata": {},
   "outputs": [],
   "source": [
    "df_csv = pd.read_csv(\"my_data.csv\")      # from CSV\n",
    "df_excel = pd.read_excel(\"my_data.xlsx\") # from Excel\n",
    "\n",
    "#Replace `\"my_data.csv\"` with your actual file path or URL."
   ]
  },
  {
   "cell_type": "markdown",
   "metadata": {},
   "source": [
    " ## 3. Basic Data Inspection\n",
    "\n",
    "\n",
    "\n",
    " After creating or loading a DataFrame, you’ll often want to inspect it:"
   ]
  },
  {
   "cell_type": "code",
   "execution_count": null,
   "metadata": {},
   "outputs": [],
   "source": [
    "print(df.head())       # First 5 rows (use df.head(10) for first 10)\n",
    "print(df.tail())       # Last 5 rows\n",
    "print(df.shape)        # (rows, columns)\n",
    "print(df.columns)      # List of column names\n",
    "print(df.info())       # Summary of the DataFrame (types, non-null counts)\n",
    "print(df.describe())   # Basic statistics for numeric columns\n"
   ]
  },
  {
   "cell_type": "markdown",
   "metadata": {},
   "source": [
    " ## 4. Selecting and Indexing Data\n",
    "\n",
    "\n",
    "\n",
    " Pandas offers multiple ways to select or filter data within a DataFrame.\n",
    "\n",
    "\n",
    "\n",
    " ### 4.1. Dot Notation / Bracket Notation"
   ]
  },
  {
   "cell_type": "code",
   "execution_count": null,
   "metadata": {},
   "outputs": [],
   "source": [
    "# Dot notation (for simple column names without spaces/special chars)\n",
    "print(df.Age)\n",
    "\n",
    "# Bracket notation\n",
    "print(df[\"Age\"])\n"
   ]
  },
  {
   "cell_type": "markdown",
   "metadata": {},
   "source": [
    " ### 4.2. Row Selection with `.loc` and `.iloc`\n",
    "\n",
    "\n",
    "\n",
    " - **`.loc`** selects rows and columns by **label**.\n",
    "\n",
    " - **`.iloc`** selects rows and columns by **integer position**."
   ]
  },
  {
   "cell_type": "code",
   "execution_count": null,
   "metadata": {},
   "outputs": [],
   "source": [
    "df = pd.DataFrame({\n",
    "    \"Name\": [\"Alice\", \"Bob\", \"Charlie\", \"Dave\"],\n",
    "    \"Age\": [25, 30, 35, 28],\n",
    "    \"City\": [\"NY\", \"LA\", \"Chicago\", \"Seattle\"]\n",
    "}, index=[\"row1\", \"row2\", \"row3\", \"row4\"])  # custom index labels\n",
    "\n",
    "# Using .loc (label-based)\n",
    "print(df.loc[\"row2\"])            # Entire row labeled 'row2'\n",
    "print(df.loc[\"row2\", \"Age\"])     # Specific cell (row2, Age)\n",
    "print(df.loc[\"row1\":\"row3\"])     # Slice multiple rows by label\n",
    "print(df.loc[:, [\"Name\", \"City\"]]) # All rows, only these columns\n",
    "\n",
    "# Using .iloc (integer-based)\n",
    "print(df.iloc[1])                # 2nd row (since indexing starts at 0)\n",
    "print(df.iloc[1, 1])             # Cell in row index=1, col index=1\n",
    "print(df.iloc[0:2])              # Rows 0 to 1\n",
    "print(df.iloc[:, [0, 2]])        # All rows, columns 0 and 2\n"
   ]
  },
  {
   "cell_type": "markdown",
   "metadata": {},
   "source": [
    " ## 5. Filtering Rows\n",
    "\n",
    "\n",
    "\n",
    " ### Boolean Masking\n",
    "\n",
    " You can create a **boolean condition** that returns `True/False` for each row, then use that mask to filter the DataFrame."
   ]
  },
  {
   "cell_type": "code",
   "execution_count": null,
   "metadata": {},
   "outputs": [],
   "source": [
    "# Show only rows where Age > 28\n",
    "mask = df[\"Age\"] > 28\n",
    "older_than_28 = df[mask]\n",
    "print(older_than_28)\n"
   ]
  },
  {
   "cell_type": "markdown",
   "metadata": {},
   "source": [
    " ### Multiple Conditions\n",
    "\n",
    " Use bitwise operators `&` (AND), `|` (OR), and `~` (NOT):"
   ]
  },
  {
   "cell_type": "code",
   "execution_count": null,
   "metadata": {},
   "outputs": [],
   "source": [
    "# People older than 25 AND living in NY\n",
    "df_filtered = df[(df[\"Age\"] > 25) & (df[\"City\"] == \"NY\")]\n",
    "print(df_filtered)\n"
   ]
  },
  {
   "cell_type": "markdown",
   "metadata": {},
   "source": [
    " ## 6. Changing Values\n",
    "\n",
    "\n",
    "\n",
    " ### 6.1. Assigning with `.loc`"
   ]
  },
  {
   "cell_type": "code",
   "execution_count": null,
   "metadata": {},
   "outputs": [],
   "source": [
    "df.loc[\"row1\", \"Age\"] = 26\n",
    "print(df)\n"
   ]
  },
  {
   "cell_type": "markdown",
   "metadata": {},
   "source": [
    " ### 6.2. Assigning with `.iloc`"
   ]
  },
  {
   "cell_type": "code",
   "execution_count": null,
   "metadata": {},
   "outputs": [],
   "source": [
    "df.iloc[0, 1] = 27\n",
    "print(df)\n"
   ]
  },
  {
   "cell_type": "markdown",
   "metadata": {},
   "source": [
    " ### 6.3. Vectorized Assignments"
   ]
  },
  {
   "cell_type": "code",
   "execution_count": null,
   "metadata": {},
   "outputs": [],
   "source": [
    "# Increase everyone's Age by 1\n",
    "df[\"Age\"] = df[\"Age\"] + 1\n",
    "print(df)\n"
   ]
  },
  {
   "cell_type": "markdown",
   "metadata": {},
   "source": [
    " ## 7. Calculating Simple Statistics and Value Counts\n",
    "\n",
    "\n",
    "\n",
    " ### 7.1. Simple Statistics"
   ]
  },
  {
   "cell_type": "code",
   "execution_count": null,
   "metadata": {},
   "outputs": [],
   "source": [
    "print(df[\"Age\"].mean())  # Average age\n",
    "print(df[\"Age\"].max())   # Max age\n",
    "print(df[\"Age\"].min())   # Min age\n"
   ]
  },
  {
   "cell_type": "markdown",
   "metadata": {},
   "source": [
    " ### 7.2. `value_counts()`"
   ]
  },
  {
   "cell_type": "code",
   "execution_count": null,
   "metadata": {},
   "outputs": [],
   "source": [
    "city_counts = df[\"City\"].value_counts()\n",
    "print(city_counts)\n"
   ]
  },
  {
   "cell_type": "markdown",
   "metadata": {},
   "source": [
    " ## 8. Grouping and Aggregation\n",
    "\n",
    "\n",
    "\n",
    " `.groupby()` allows you to split data into groups based on some criteria, apply functions to each group, and combine results."
   ]
  },
  {
   "cell_type": "code",
   "execution_count": null,
   "metadata": {},
   "outputs": [],
   "source": [
    "data = {\n",
    "    \"Name\": [\"Alice\", \"Bob\", \"Charlie\", \"Dave\"],\n",
    "    \"Age\": [25, 30, 35, 28],\n",
    "    \"City\": [\"NY\", \"LA\", \"NY\", \"LA\"],\n",
    "    \"Salary\": [70000, 80000, 120000, 95000]\n",
    "}\n",
    "df = pd.DataFrame(data)\n",
    "\n",
    "# Group by 'City' and calculate mean Salary\n",
    "grouped = df.groupby(\"City\")[\"Salary\"].mean()\n",
    "print(grouped)\n"
   ]
  },
  {
   "cell_type": "markdown",
   "metadata": {},
   "source": [
    " ## 9. Merging / Joining DataFrames\n",
    "\n",
    "\n",
    "\n",
    " ### 9.1. The `merge()` Method"
   ]
  },
  {
   "cell_type": "code",
   "execution_count": null,
   "metadata": {},
   "outputs": [],
   "source": [
    "df_left = pd.DataFrame({\n",
    "    \"PersonID\": [1, 2, 3],\n",
    "    \"Name\": [\"Alice\", \"Bob\", \"Charlie\"]\n",
    "})\n",
    "\n",
    "df_right = pd.DataFrame({\n",
    "    \"PersonID\": [1, 2, 4],\n",
    "    \"City\": [\"NY\", \"LA\", \"Houston\"]\n",
    "})\n",
    "\n",
    "merged_df = pd.merge(df_left, df_right, on=\"PersonID\", how=\"inner\")\n",
    "print(merged_df)\n"
   ]
  },
  {
   "cell_type": "markdown",
   "metadata": {},
   "source": [
    " ### 9.2. Joins on Different Column Names"
   ]
  },
  {
   "cell_type": "code",
   "execution_count": null,
   "metadata": {},
   "outputs": [],
   "source": [
    "# If columns in the two DataFrames have different names:\n",
    "pd.merge(df_left, df_right, left_on=\"PersonID\", right_on=\"ID\")\n"
   ]
  },
  {
   "cell_type": "markdown",
   "metadata": {},
   "source": [
    " ## 10. Exercises\n",
    "\n",
    "\n",
    "\n",
    " 1. Create a DataFrame from a dictionary of lists with at least three columns.\n",
    "\n",
    " 2. Load a CSV file into a DataFrame and inspect its first few rows.\n",
    "\n",
    " 3. Filter rows where a numeric column exceeds a certain threshold.\n",
    "\n",
    " 4. Perform a group-by operation and calculate the mean of another column.\n",
    "\n",
    " 5. Merge two DataFrames on a common key."
   ]
  },
  {
   "cell_type": "code",
   "execution_count": null,
   "metadata": {},
   "outputs": [],
   "source": [
    "# 1. Create a DataFrame from a dictionary of lists.\n"
   ]
  },
  {
   "cell_type": "code",
   "execution_count": null,
   "metadata": {},
   "outputs": [],
   "source": [
    "# 2. Load a CSV file and inspect its first few rows.\n"
   ]
  },
  {
   "cell_type": "code",
   "execution_count": null,
   "metadata": {},
   "outputs": [],
   "source": [
    "# 3. Filter rows where a numeric column exceeds a threshold.\n"
   ]
  },
  {
   "cell_type": "code",
   "execution_count": null,
   "metadata": {},
   "outputs": [],
   "source": [
    "# 4. Perform a group-by operation and calculate the mean of another column.\n"
   ]
  },
  {
   "cell_type": "code",
   "execution_count": null,
   "metadata": {},
   "outputs": [],
   "source": [
    "# 5. Merge two DataFrames on a common key.\n"
   ]
  }
 ],
 "metadata": {
  "language_info": {
   "codemirror_mode": {
    "name": "ipython",
    "version": 3
   },
   "file_extension": ".py",
   "mimetype": "text/x-python",
   "name": "python",
   "nbconvert_exporter": "python",
   "pygments_lexer": "ipython3",
   "version": 3
  }
 },
 "nbformat": 4,
 "nbformat_minor": 2
}
