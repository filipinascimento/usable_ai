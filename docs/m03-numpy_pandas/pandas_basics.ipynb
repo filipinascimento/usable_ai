{
 "cells": [
  {
   "cell_type": "markdown",
   "metadata": {},
   "source": [
    "# Pandas Tutorial\n",
    "A comprehensive yet beginner-friendly tutorial on **pandas**, a popular Python library for data manipulation and analysis.\n",
    "\n",
    "In this tutorial, we will cover:\n",
    "\n",
    "    - Installation and import of the pandas library.\n",
    "    - An introduction to Pandas Series, highlighting its similarity to NumPy arrays.\n",
    "    - Creating DataFrames from various data sources.\n",
    "    - Basic data inspection, selection, indexing, and filtering.\n",
    "    - Modifying DataFrames and performing calculations.\n",
    "    - Grouping, merging, and finally saving/loading data in different formats.\n",
    "\n",
    "  **Note:** Remember that a pandas DataFrame can be thought of as a collection of Series objects, where each column is a Series."
   ]
  },
  {
   "cell_type": "code",
   "execution_count": null,
   "metadata": {},
   "outputs": [],
   "source": [
    "# No need to install pandas, it is already included in our environment.\n",
    "# However if you are not using our environment, you can install pandas using the command:\n",
    "\n",
    "#!pip install pandas\n",
    "\n"
   ]
  },
  {
   "cell_type": "markdown",
   "metadata": {},
   "source": [
    " ## 1. Installation and Import\n",
    "\n",
    "\n",
    "\n",
    " First, install pandas if it is not already installed, then import it into your Python environment."
   ]
  },
  {
   "cell_type": "code",
   "execution_count": null,
   "metadata": {},
   "outputs": [],
   "source": [
    "import pandas as pd\n"
   ]
  },
  {
   "cell_type": "markdown",
   "metadata": {},
   "source": [
    " ## 1.1. Pandas Series: An Introduction\n",
    "\n",
    "\n",
    "\n",
    " A **Pandas Series** is a one-dimensional labeled array capable of holding any data type. If you're already familiar with NumPy arrays, you'll notice that a Series behaves similarly but with added flexibility through indexing (labels for each element).\n",
    "\n",
    "\n",
    "\n",
    " In fact, a DataFrame is essentially a collection of Series objects (each column is a Series), which means many operations applicable to arrays can also be performed on Series."
   ]
  },
  {
   "cell_type": "code",
   "execution_count": null,
   "metadata": {},
   "outputs": [],
   "source": [
    "# Creating a Pandas Series from a list\n",
    "data_series = pd.Series([10, 20, 30, 40])\n",
    "display(\"Pandas Series:\")\n",
    "display(data_series)\n",
    "\n",
    "# Demonstrate that DataFrame columns are Series\n",
    "df_series_example = pd.DataFrame({\n",
    "    \"Numbers\": data_series, \n",
    "    \"Squared\": data_series ** 2\n",
    "})\n",
    "display(\"\\nDataFrame constructed from Series:\")\n",
    "display(df_series_example)\n"
   ]
  },
  {
   "cell_type": "markdown",
   "metadata": {},
   "source": [
    " ## 2. Creating DataFrames\n",
    "\n",
    "\n",
    "\n",
    " A **DataFrame** is the core data structure in pandas — think of it as a table with rows and columns. You can create a DataFrame from various sources. Below are a few common methods:"
   ]
  },
  {
   "cell_type": "markdown",
   "metadata": {},
   "source": [
    " ### 2.1. From a Dictionary of Lists\n",
    "\n",
    "\n",
    "\n",
    " Here, each key in the dictionary represents a column name, and the corresponding value is a list of data for that column."
   ]
  },
  {
   "cell_type": "code",
   "execution_count": null,
   "metadata": {},
   "outputs": [],
   "source": [
    "data = {\n",
    "    \"Name\": [\"Alice\", \"Bob\", \"Charlie\"],\n",
    "    \"Age\": [25, 30, 35],\n",
    "    \"City\": [\"New York\", \"Los Angeles\", \"Chicago\"]\n",
    "}\n",
    "\n",
    "df = pd.DataFrame(data)\n",
    "display(df)\n"
   ]
  },
  {
   "cell_type": "markdown",
   "metadata": {},
   "source": [
    " ### 2.2. From a List of Dictionaries\n",
    "\n",
    "\n",
    "\n",
    " In this approach, each dictionary in the list represents a row of data."
   ]
  },
  {
   "cell_type": "code",
   "execution_count": null,
   "metadata": {},
   "outputs": [],
   "source": [
    "data_list = [\n",
    "    {\"Name\": \"Alice\",   \"Age\": 25, \"City\": \"New York\"},\n",
    "    {\"Name\": \"Bob\",     \"Age\": 30, \"City\": \"Los Angeles\"},\n",
    "    {\"Name\": \"Charlie\", \"Age\": 35, \"City\": \"Chicago\"}\n",
    "]\n",
    "df2 = pd.DataFrame(data_list)\n",
    "display(df2)\n",
    "\n"
   ]
  },
  {
   "cell_type": "markdown",
   "metadata": {},
   "source": [
    " ## 3. Basic Data Inspection\n",
    "\n",
    "\n",
    "\n",
    " After creating or loading a DataFrame, it's important to inspect your data. Common methods include:\n",
    "\n",
    "\n",
    "\n",
    " - **`df.head()`**: View the first few rows.\n",
    "\n",
    " - **`df.tail()`**: View the last few rows.\n",
    "\n",
    " - **`df.shape`**: Get the number of rows and columns.\n",
    "\n",
    " - **`df.columns`**: List all column names.\n",
    "\n",
    " - **`df.info()`**: Get a summary including data types and non-null counts.\n",
    "\n",
    " - **`df.describe()`**: Compute basic statistics for numerical columns."
   ]
  },
  {
   "cell_type": "code",
   "execution_count": null,
   "metadata": {},
   "outputs": [],
   "source": [
    "display(\"First 5 rows:\")\n",
    "display(df.head())       # First 5 rows (use df.head(10) for the first 10)\n",
    "display(\"\\nLast 5 rows:\")\n",
    "display(df.tail())       # Last 5 rows\n",
    "display(\"\\nShape of DataFrame:\")\n",
    "display(df.shape)        # (rows, columns)\n",
    "display(\"\\nColumn Names:\")\n",
    "display(df.columns)      # List of column names\n",
    "display(\"\\nDataFrame Info:\")\n",
    "display(df.info())       # Summary of the DataFrame (types, non-null counts)\n",
    "display(\"\\nStatistical Summary:\")\n",
    "display(df.describe())   # Basic statistics for numeric columns\n"
   ]
  },
  {
   "cell_type": "markdown",
   "metadata": {},
   "source": [
    " ### Knowledge Check: DataFrame Inspection\n",
    "\n",
    "\n",
    "\n",
    " Consider the DataFrame you just inspected. Write code to:\n",
    "\n",
    " 1. Print the first 3 rows using an alternative method.\n",
    "\n",
    " 2. Retrieve the list of column names.\n",
    "\n",
    " 3. Summarize the DataFrame using `.info()`.\n",
    "\n",
    "\n",
    "\n",
    " *Hint: Use the appropriate DataFrame methods to achieve these tasks.*"
   ]
  },
  {
   "cell_type": "code",
   "execution_count": null,
   "metadata": {},
   "outputs": [],
   "source": [
    "# Your solution here:\n",
    "# 1. Print the first 3 rows.\n",
    "# 2. Print the list of column names.\n",
    "# 3. Display the DataFrame information.\n"
   ]
  },
  {
   "cell_type": "markdown",
   "metadata": {},
   "source": [
    " ## 4. Selecting and Indexing Data\n",
    "\n",
    "\n",
    "\n",
    " Pandas offers multiple ways to select or filter data within a DataFrame.\n",
    "\n",
    "\n",
    "\n",
    " ### 4.1. Dot Notation / Bracket Notation\n",
    "\n",
    "\n",
    "\n",
    " - **Dot Notation**: Simplifies access for columns with simple names.\n",
    "\n",
    " - **Bracket Notation**: More flexible; it supports column names with spaces or special characters."
   ]
  },
  {
   "cell_type": "code",
   "execution_count": null,
   "metadata": {},
   "outputs": [],
   "source": [
    "# Dot notation (for simple column names without spaces/special chars)\n",
    "display(\"Using dot notation to access 'Age':\")\n",
    "display(df.Age)\n",
    "\n",
    "# Bracket notation\n",
    "display(\"\\nUsing bracket notation to access 'Age':\")\n",
    "display(df[\"Age\"])\n"
   ]
  },
  {
   "cell_type": "markdown",
   "metadata": {},
   "source": [
    " ### 4.2. Row Selection with `.loc` and `.iloc`\n",
    "\n",
    "\n",
    "\n",
    " - **`.loc`** selects rows and columns by **label**.\n",
    "\n",
    " - **`.iloc`** selects rows and columns by **integer position**."
   ]
  },
  {
   "cell_type": "code",
   "execution_count": null,
   "metadata": {},
   "outputs": [],
   "source": [
    "df = pd.DataFrame({\n",
    "    \"Name\": [\"Alice\", \"Bob\", \"Charlie\", \"Dave\"],\n",
    "    \"Age\": [25, 30, 35, 28],\n",
    "    \"City\": [\"NY\", \"LA\", \"Chicago\", \"Seattle\"]\n",
    "}, index=[\"row1\", \"row2\", \"row3\", \"row4\"])  # custom index labels\n",
    "\n",
    "display(\"Using .loc (label-based):\")\n",
    "display(df.loc[\"row2\"])               # Entire row labeled 'row2'\n",
    "display(df.loc[\"row2\", \"Age\"])        # Specific cell (row2, Age)\n",
    "display(df.loc[\"row1\":\"row3\"])        # Slice multiple rows by label\n",
    "display(df.loc[:, [\"Name\", \"City\"]])  # All rows, only these columns\n",
    "\n",
    "display(\"\\nUsing .iloc (integer-based):\")\n",
    "display(df.iloc[1])                   # 2nd row (since indexing starts at 0)\n",
    "display(df.iloc[1, 1])                # Cell at row index 1, col index 1\n",
    "display(df.iloc[0:2])                 # Rows 0 to 1\n",
    "display(df.iloc[:, [0, 2]])           # All rows, columns 0 and 2\n"
   ]
  },
  {
   "cell_type": "markdown",
   "metadata": {},
   "source": [
    " ## 5. Filtering Rows\n",
    "\n",
    "\n",
    "\n",
    " Filtering rows lets you extract data based on specific conditions.\n",
    "\n",
    "\n",
    "\n",
    " ### 5.1. Boolean Masking\n",
    "\n",
    "\n",
    "\n",
    " Create a boolean condition that returns `True/False` for each row, then use that mask to filter the DataFrame."
   ]
  },
  {
   "cell_type": "code",
   "execution_count": null,
   "metadata": {},
   "outputs": [],
   "source": [
    "# Show only rows where Age > 28\n",
    "mask = df[\"Age\"] > 28\n",
    "older_than_28 = df[mask]\n",
    "display(\"Rows where Age > 28:\")\n",
    "display(older_than_28)\n"
   ]
  },
  {
   "cell_type": "markdown",
   "metadata": {},
   "source": [
    " ### 5.2. Multiple Conditions\n",
    "\n",
    "\n",
    "\n",
    " Combine conditions using bitwise operators:\n",
    "\n",
    " - `&` for AND\n",
    "\n",
    " - `|` for OR\n",
    "\n",
    " - `~` for NOT"
   ]
  },
  {
   "cell_type": "code",
   "execution_count": null,
   "metadata": {},
   "outputs": [],
   "source": [
    "# People older than 25 AND living in NY\n",
    "df_filtered = df[(df[\"Age\"] > 25) & (df[\"City\"] == \"NY\")]\n",
    "display(\"Rows where Age > 25 and City is NY:\")\n",
    "display(df_filtered)\n"
   ]
  },
  {
   "cell_type": "markdown",
   "metadata": {},
   "source": [
    " Alternatively, you can use the `query()` method for more complex filtering.\n",
    "\n",
    " Check the official documentation for more details.\n",
    "\n",
    " https://pandas.pydata.org/pandas-docs/stable/user_guide/indexing.html#query"
   ]
  },
  {
   "cell_type": "code",
   "execution_count": null,
   "metadata": {},
   "outputs": [],
   "source": [
    "df_filtered_query = df.query(\"Age > 25 and City == 'NY'\")\n",
    "display(\"Rows where Age > 25 and City is NY (using query):\")\n",
    "display(df_filtered_query)\n"
   ]
  },
  {
   "cell_type": "markdown",
   "metadata": {},
   "source": [
    " ### Knowledge Check: Filtering Rows\n",
    "\n",
    "\n",
    "\n",
    " Using the DataFrame `df`:\n",
    "\n",
    " 1. Create a boolean mask to filter rows where the 'Age' is between 26 and 32 (inclusive).\n",
    "\n",
    " 2. Additionally, filter rows where the 'City' starts with either 'C' or 'N'.\n",
    "\n",
    " 3. Print the resulting DataFrame.\n",
    "\n",
    "\n",
    "\n",
    " *Hint: Use string methods like `.str.startswith()` on the 'City' column along with logical operators.*"
   ]
  },
  {
   "cell_type": "code",
   "execution_count": null,
   "metadata": {},
   "outputs": [],
   "source": [
    "# Your solution here:\n",
    "# For example, create your mask and apply it to df.\n"
   ]
  },
  {
   "cell_type": "markdown",
   "metadata": {},
   "source": [
    " ## 6. Changing Values\n",
    "\n",
    "\n",
    "\n",
    " You can modify DataFrame values using various methods:\n",
    "\n",
    "\n",
    "\n",
    " ### 6.1. Assigning with `.loc`\n",
    "\n",
    "\n",
    "\n",
    " Modify values by referencing labels."
   ]
  },
  {
   "cell_type": "code",
   "execution_count": null,
   "metadata": {},
   "outputs": [],
   "source": [
    "df.loc[\"row1\", \"Age\"] = 26\n",
    "display(\"After modifying using .loc:\")\n",
    "display(df)\n"
   ]
  },
  {
   "cell_type": "markdown",
   "metadata": {},
   "source": [
    " ### 6.2. Assigning with `.iloc`\n",
    "\n",
    "\n",
    "\n",
    " Modify values by referencing integer positions."
   ]
  },
  {
   "cell_type": "code",
   "execution_count": null,
   "metadata": {},
   "outputs": [],
   "source": [
    "df.iloc[0, 1] = 27\n",
    "display(\"After modifying using .iloc:\")\n",
    "display(df)\n"
   ]
  },
  {
   "cell_type": "markdown",
   "metadata": {},
   "source": [
    " ### 6.3. Vectorized Assignments\n",
    "\n",
    "\n",
    "\n",
    " Apply operations across entire columns efficiently."
   ]
  },
  {
   "cell_type": "code",
   "execution_count": null,
   "metadata": {},
   "outputs": [],
   "source": [
    "# Increase everyone's Age by 1\n",
    "df[\"Age\"] = df[\"Age\"] + 1\n",
    "display(\"After increasing Age by 1:\")\n",
    "display(df)\n"
   ]
  },
  {
   "cell_type": "markdown",
   "metadata": {},
   "source": [
    " ### 6.4. Using `apply()`\n",
    "\n",
    "\n",
    "\n",
    " Apply a function to each element in a Series or DataFrame and return a new Series or DataFrame.\n",
    "\n"
   ]
  },
  {
   "cell_type": "code",
   "execution_count": null,
   "metadata": {},
   "outputs": [],
   "source": [
    "df[\"Age\"] = df[\"Age\"].apply(lambda x: x*x)\n",
    "display(\"After applying lambda function to square Age:\")\n",
    "display(df)\n",
    "\n",
    "# ### 6.5. Creating new columns\n",
    "#\n",
    "# Create a new column based on existing columns."
   ]
  },
  {
   "cell_type": "code",
   "execution_count": null,
   "metadata": {},
   "outputs": [],
   "source": [
    "df[\"Age in 5 years\"] = df[\"Age\"] + 5\n",
    "display(\"After creating new column 'Age in 5 years':\")\n",
    "display(df)\n"
   ]
  },
  {
   "cell_type": "markdown",
   "metadata": {},
   "source": [
    " Sometimes this direct assignment may lead to problems. In particular if you are modifying a view of a DataFrame, it may not behave as expected.\n",
    "\n",
    " In this case you should use `df.loc[]` to ensure you are modifying the original DataFrame.\n",
    "\n",
    " An alternative is to copy the DataFrame first using `df.copy()`."
   ]
  },
  {
   "cell_type": "code",
   "execution_count": null,
   "metadata": {},
   "outputs": [],
   "source": [
    "# For example if you modify a slice of a DataFrame, it may not behave as expected.\n",
    "df_slice = df.query(\"Age > 25\")\n",
    "df_slice[\"Age plus 1\"] = df_slice[\"Age\"] + 1\n",
    "display(\"After modifying a slice of the DataFrame:\")\n",
    "display(df_slice)\n"
   ]
  },
  {
   "cell_type": "markdown",
   "metadata": {},
   "source": [
    " The correct way to do this is to use `df.loc[]` or copy the DataFrame first."
   ]
  },
  {
   "cell_type": "code",
   "execution_count": null,
   "metadata": {},
   "outputs": [],
   "source": [
    "# Modify the original DataFrame using .loc\n",
    "df_slice = df.query(\"Age > 25\")\n",
    "df.loc[df_slice.index, \"Age\"] = df_slice[\"Age\"] + 1\n",
    "display(\"After modifying the original DataFrame using .loc:\")\n",
    "display(df)\n",
    "\n",
    "# Or copy the DataFrame first\n",
    "df_slice = df.query(\"Age > 25\").copy()\n",
    "df_slice[\"Age plus 1\"] = df_slice[\"Age\"] + 1\n",
    "display(\"After modifying a copy of the slice of the DataFrame:\")\n",
    "display(df_slice)\n",
    "\n"
   ]
  },
  {
   "cell_type": "markdown",
   "metadata": {},
   "source": [
    " ## 7. Calculating Simple Statistics and Value Counts\n",
    "\n",
    "\n",
    "\n",
    " Pandas provides simple methods to compute statistics and count occurrences:\n",
    "\n",
    "\n",
    "\n",
    " ### 7.1. Simple Statistics\n",
    "\n",
    "\n",
    "\n",
    " Calculate basic statistics such as mean, maximum, and minimum."
   ]
  },
  {
   "cell_type": "code",
   "execution_count": null,
   "metadata": {},
   "outputs": [],
   "source": [
    "display(\"Average Age:\", df[\"Age\"].mean())  # Average age\n",
    "display(\"Max Age:\", df[\"Age\"].max())         # Maximum age\n",
    "display(\"Min Age:\", df[\"Age\"].min())         # Minimum age\n"
   ]
  },
  {
   "cell_type": "markdown",
   "metadata": {},
   "source": [
    " ### 7.2. `value_counts()`\n",
    "\n",
    "\n",
    "\n",
    " Count the occurrence of unique values in a Series."
   ]
  },
  {
   "cell_type": "code",
   "execution_count": null,
   "metadata": {},
   "outputs": [],
   "source": [
    "city_counts = df[\"City\"].value_counts()\n",
    "display(\"City counts:\")\n",
    "display(city_counts)\n"
   ]
  },
  {
   "cell_type": "markdown",
   "metadata": {},
   "source": [
    " ## 8. Grouping and Aggregation\n",
    "\n",
    "\n",
    "\n",
    " Use `.groupby()` to split data into groups based on certain criteria, apply functions to each group, and combine the results.\n",
    "\n",
    "\n",
    "\n",
    " In the example below, we group the DataFrame by 'City' and calculate the mean Salary for each group."
   ]
  },
  {
   "cell_type": "code",
   "execution_count": null,
   "metadata": {},
   "outputs": [],
   "source": [
    "data = {\n",
    "    \"Name\": [\"Alice\", \"Bob\", \"Charlie\", \"Dave\"],\n",
    "    \"Age\": [25, 30, 35, 28],\n",
    "    \"City\": [\"NY\", \"LA\", \"NY\", \"LA\"],\n",
    "    \"Salary\": [70000, 80000, 120000, 95000]\n",
    "}\n",
    "df = pd.DataFrame(data)\n",
    "\n",
    "# Group by 'City' and calculate mean Salary\n",
    "grouped = df.groupby(\"City\")[\"Salary\"].mean()\n",
    "display(\"Mean Salary by City:\")\n",
    "display(grouped)\n"
   ]
  },
  {
   "cell_type": "markdown",
   "metadata": {},
   "source": [
    " ## 9. Merging / Joining DataFrames\n",
    "\n",
    "\n",
    "\n",
    " Merge or join multiple DataFrames using pandas methods.\n",
    "\n",
    "\n",
    "\n",
    " ### 9.1. The `merge()` Method\n",
    "\n",
    "\n",
    "\n",
    " Merge two DataFrames on a common key."
   ]
  },
  {
   "cell_type": "code",
   "execution_count": null,
   "metadata": {},
   "outputs": [],
   "source": [
    "df_left = pd.DataFrame({\n",
    "    \"PersonID\": [1, 2, 3],\n",
    "    \"Name\": [\"Alice\", \"Bob\", \"Charlie\"]\n",
    "})\n",
    "\n",
    "df_right = pd.DataFrame({\n",
    "    \"PersonID\": [1, 2, 4],\n",
    "    \"City\": [\"NY\", \"LA\", \"Houston\"]\n",
    "})\n",
    "\n",
    "merged_df = pd.merge(df_left, df_right, on=\"PersonID\", how=\"inner\")\n",
    "display(\"Merged DataFrame (inner join):\")\n",
    "display(merged_df)\n"
   ]
  },
  {
   "cell_type": "markdown",
   "metadata": {},
   "source": [
    " ### 9.2. Joins on Different Column Names\n",
    "\n",
    "\n",
    "\n",
    " If the key column has different names in each DataFrame, use the `left_on` and `right_on` parameters."
   ]
  },
  {
   "cell_type": "code",
   "execution_count": null,
   "metadata": {},
   "outputs": [],
   "source": [
    "# Example: Uncomment and modify the following line if your DataFrames have different key names.\n",
    "# pd.merge(df_left, df_right, left_on=\"PersonID\", right_on=\"ID\")\n",
    "\n"
   ]
  },
  {
   "cell_type": "markdown",
   "metadata": {},
   "source": [
    " ## 10. Saving and Loading Data\n",
    "\n",
    "\n",
    "\n",
    " Pandas allows you to easily save DataFrames to various file formats and load them back into your program. Below are examples for saving to CSV and Feather formats:\n",
    "\n",
    "\n",
    "\n",
    " - **CSV Format**: A widely used text-based format.\n",
    "\n",
    " - **Feather Format**: A fast, lightweight, language-independent binary format (requires `pyarrow`).\n",
    "\n",
    "\n",
    "\n",
    " Pandas supports many other formats as well, including Excel, JSON, and SQL!\n",
    "\n"
   ]
  },
  {
   "cell_type": "code",
   "execution_count": null,
   "metadata": {},
   "outputs": [],
   "source": [
    "# Save DataFrame to CSV\n",
    "df.to_csv(\"saved_data.csv\", index=False)\n",
    "display(\"DataFrame saved to CSV file: saved_data.csv\")\n"
   ]
  },
  {
   "cell_type": "code",
   "execution_count": null,
   "metadata": {},
   "outputs": [],
   "source": [
    "# Save DataFrame to Feather format (ensure you have pyarrow installed: pip install pyarrow)\n",
    "df.to_feather(\"saved_data.feather\")\n",
    "display(\"DataFrame saved to Feather file: saved_data.feather\")\n"
   ]
  },
  {
   "cell_type": "code",
   "execution_count": null,
   "metadata": {},
   "outputs": [],
   "source": [
    "# Loading the saved CSV file\n",
    "df_loaded_csv = pd.read_csv(\"saved_data.csv\")\n",
    "display(\"CSV file loaded:\")\n",
    "display(df_loaded_csv)\n"
   ]
  },
  {
   "cell_type": "code",
   "execution_count": null,
   "metadata": {},
   "outputs": [],
   "source": [
    "# Loading the saved Feather file\n",
    "df_loaded_feather = pd.read_feather(\"saved_data.feather\")\n",
    "display(\"Feather file loaded:\")\n",
    "display(df_loaded_feather)\n"
   ]
  },
  {
   "cell_type": "markdown",
   "metadata": {},
   "source": [
    " ## 11. Exercises\n",
    "\n",
    "\n",
    "\n",
    " Practice what you have learned with the following exercises:\n",
    "\n",
    "\n",
    "\n",
    " 1. Create a DataFrame from a dictionary of lists with at least three columns.\n",
    "\n",
    " 2. Load a CSV file into a DataFrame and inspect its first few rows.\n",
    "\n",
    " 3. Filter rows where a numeric column exceeds a certain threshold.\n",
    "\n",
    " 4. Perform a group-by operation and calculate the mean of another column.\n",
    "\n",
    " 5. Merge two DataFrames on a common key.\n",
    "\n",
    "\n",
    "\n",
    " **For each exercise, write your code in the provided cells.**"
   ]
  },
  {
   "cell_type": "code",
   "execution_count": null,
   "metadata": {},
   "outputs": [],
   "source": [
    "# 1. Create a DataFrame from a dictionary of lists.\n"
   ]
  },
  {
   "cell_type": "code",
   "execution_count": null,
   "metadata": {},
   "outputs": [],
   "source": [
    "# 2. Load a CSV file and inspect its first few rows.\n"
   ]
  },
  {
   "cell_type": "code",
   "execution_count": null,
   "metadata": {},
   "outputs": [],
   "source": [
    "# 3. Filter rows where a numeric column exceeds a threshold.\n"
   ]
  },
  {
   "cell_type": "code",
   "execution_count": null,
   "metadata": {},
   "outputs": [],
   "source": [
    "# 4. Perform a group-by operation and calculate the mean of another column.\n"
   ]
  },
  {
   "cell_type": "code",
   "execution_count": null,
   "metadata": {},
   "outputs": [],
   "source": [
    "# 5. Merge two DataFrames on a common key.\n"
   ]
  }
 ],
 "metadata": {
  "language_info": {
   "codemirror_mode": {
    "name": "ipython",
    "version": 3
   },
   "file_extension": ".py",
   "mimetype": "text/x-python",
   "name": "python",
   "nbconvert_exporter": "python",
   "pygments_lexer": "ipython3",
   "version": 3
  }
 },
 "nbformat": 4,
 "nbformat_minor": 2
}
