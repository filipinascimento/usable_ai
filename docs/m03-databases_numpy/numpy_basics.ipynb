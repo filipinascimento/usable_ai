{
 "cells": [
  {
   "cell_type": "markdown",
   "metadata": {},
   "source": [
    " # NumPy Tutorial\n",
    "\n",
    " This should give you a grasp on NumPy’s essential operations, including **fancy indexing** and **boolean masking**."
   ]
  },
  {
   "cell_type": "markdown",
   "metadata": {},
   "source": [
    " ## 1. Installation and Import\n",
    "\n",
    "\n",
    "\n",
    " 1. **Install NumPy** (if you haven’t already):\n"
   ]
  },
  {
   "cell_type": "code",
   "execution_count": null,
   "metadata": {},
   "outputs": [],
   "source": [
    "# Install numpy using pip\n",
    "!pip install numpy"
   ]
  },
  {
   "cell_type": "markdown",
   "metadata": {},
   "source": [
    "This downloads and installs the NumPy package from the Python Package Index (PyPI).\n",
    "The `as np` alias is a common convention that makes it easier to reference NumPy throughout your code.\n"
   ]
  },
  {
   "cell_type": "code",
   "execution_count": null,
   "metadata": {},
   "outputs": [],
   "source": [
    "# Importing NumPy\n",
    "import numpy as np"
   ]
  },
  {
   "cell_type": "markdown",
   "metadata": {},
   "source": [
    " ## 2. Creating Arrays\n",
    "\n",
    "\n",
    "\n",
    " NumPy arrays are the core data structure for fast numerical computation in Python. They’re more efficient than standard Python lists for large-scale numerical operations."
   ]
  },
  {
   "cell_type": "code",
   "execution_count": null,
   "metadata": {},
   "outputs": [],
   "source": [
    "# From Python Lists\n",
    "arr_list = [1, 2, 3, 4]\n",
    "arr_np = np.array(arr_list)\n",
    "print(arr_np)       # [1 2 3 4]\n",
    "print(arr_np.dtype) # e.g., int64\n"
   ]
  },
  {
   "cell_type": "code",
   "execution_count": null,
   "metadata": {},
   "outputs": [],
   "source": [
    "# Using Built-in Functions\n",
    "zeros_arr = np.zeros((2, 3))       # 2x3 array of zeros\n",
    "ones_arr = np.ones(5)              # 1D array of ones\n",
    "range_arr = np.arange(0, 10, 2)    # [0, 2, 4, 6, 8]\n",
    "lin_arr = np.linspace(0, 1, 5)     # [0., 0.25, 0.5, 0.75, 1.]\n",
    "\n",
    "print(zeros_arr)\n",
    "print(ones_arr)\n",
    "print(range_arr)\n",
    "print(lin_arr)\n"
   ]
  },
  {
   "cell_type": "markdown",
   "metadata": {},
   "source": [
    " ## 3. Basic Operations\n",
    "\n",
    "\n",
    "\n",
    " NumPy arrays allow you to perform **element-wise** arithmetic with concise syntax, which is much faster than using regular Python lists in a loop."
   ]
  },
  {
   "cell_type": "code",
   "execution_count": null,
   "metadata": {},
   "outputs": [],
   "source": [
    "# Arithmetic\n",
    "x = np.array([1, 2, 3])\n",
    "y = np.array([10, 20, 30])\n",
    "\n",
    "print(x + y)       # [11 22 33]\n",
    "print(x * 2)       # [2 4 6]\n",
    "print(x * y)       # [10 40 90]\n"
   ]
  },
  {
   "cell_type": "code",
   "execution_count": null,
   "metadata": {},
   "outputs": [],
   "source": [
    "# Array Statistics\n",
    "arr = np.array([1, 2, 3, 4, 5])\n",
    "print(arr.mean())  # 3.0\n",
    "print(arr.sum())   # 15\n",
    "print(arr.max())   # 5\n"
   ]
  },
  {
   "cell_type": "markdown",
   "metadata": {},
   "source": [
    " ## 4. Reshaping and Indexing"
   ]
  },
  {
   "cell_type": "code",
   "execution_count": null,
   "metadata": {},
   "outputs": [],
   "source": [
    "# Reshape\n",
    "mat = np.arange(1, 7)   # [1 2 3 4 5 6]\n",
    "mat_2d = mat.reshape(2, 3)\n",
    "print(mat_2d)\n"
   ]
  },
  {
   "cell_type": "code",
   "execution_count": null,
   "metadata": {},
   "outputs": [],
   "source": [
    "# Slicing\n",
    "# 1D slicing\n",
    "arr = np.array([10, 20, 30, 40, 50])\n",
    "print(arr[1:3])       # [20 30]\n",
    "\n",
    "# 2D slicing\n",
    "mat_2d = np.array([[1, 2, 3],\n",
    "                   [4, 5, 6]])\n",
    "print(mat_2d[0, 1])   # 2  (row 0, col 1)\n",
    "print(mat_2d[:, 0])   # [1 4] (all rows, col 0)\n"
   ]
  },
  {
   "cell_type": "markdown",
   "metadata": {},
   "source": [
    " ## 5. Fancy Indexing and Boolean Masking"
   ]
  },
  {
   "cell_type": "code",
   "execution_count": null,
   "metadata": {},
   "outputs": [],
   "source": [
    "# Fancy Indexing\n",
    "arr = np.array([10, 20, 30, 40, 50])\n",
    "idx = np.array([2, 0, 3])  # positions to pick\n",
    "print(arr[idx])            # [30 10 40]\n"
   ]
  },
  {
   "cell_type": "code",
   "execution_count": null,
   "metadata": {},
   "outputs": [],
   "source": [
    "# Boolean Masking\n",
    "arr = np.array([10, 20, 30, 40, 50])\n",
    "mask = arr > 25\n",
    "print(mask)        # [False False  True  True  True]\n",
    "print(arr[mask])   # [30 40 50]\n"
   ]
  },
  {
   "cell_type": "markdown",
   "metadata": {},
   "source": [
    " ## 6. Broadcasting"
   ]
  },
  {
   "cell_type": "code",
   "execution_count": null,
   "metadata": {},
   "outputs": [],
   "source": [
    "a = np.array([[1, 2, 3],\n",
    "              [4, 5, 6]])\n",
    "b = np.array([10, 20, 30])\n",
    "\n",
    "print(a + b)\n",
    "# [[11 22 33]\n",
    "#  [14 25 36]]\n"
   ]
  },
  {
   "cell_type": "markdown",
   "metadata": {},
   "source": [
    " ## 7. Random and Useful Utilities"
   ]
  },
  {
   "cell_type": "code",
   "execution_count": null,
   "metadata": {},
   "outputs": [],
   "source": [
    "# Random numbers\n",
    "rand_arr = np.random.rand(3, 2)    # uniform in [0,1)\n",
    "randn_arr = np.random.randn(3, 2)  # normal distribution (mean=0, std=1)\n",
    "\n",
    "# Inspect shape\n",
    "print(rand_arr)\n",
    "print(rand_arr.shape)  # (3, 2)\n"
   ]
  },
  {
   "cell_type": "markdown",
   "metadata": {},
   "source": [
    " ## 8. Conclusion and Next Steps\n",
    "\n",
    "\n",
    "\n",
    " 1. **Array Creation & Reshaping**: Master these to handle initial data processing.\n",
    "\n",
    " 2. **Indexing & Slicing**: Use these techniques to quickly extract or modify parts of your dataset.\n",
    "\n",
    " 3. **Fancy Indexing & Boolean Masking**: Powerful shortcuts for rearranging or filtering data based on conditions.\n",
    "\n",
    " 4. **Broadcasting**: Simplifies arithmetic with mismatched shapes.\n",
    "\n",
    " 5. **Random Utilities**: Ideal for simulations, data augmentation, or test scenarios."
   ]
  },
  {
   "cell_type": "markdown",
   "metadata": {},
   "source": [
    " # Questions\n",
    "\n",
    "\n",
    "\n",
    " Solve the following exercises to practice NumPy basics. Follow the instructions and fill in the blanks where indicated.\n",
    "\n",
    " There is no need to submit this notebook; it's for your practice only."
   ]
  },
  {
   "cell_type": "markdown",
   "metadata": {},
   "source": [
    " ## 1. Array Creation and Initialization\n",
    "\n",
    "\n",
    "\n",
    " **Task:**\n",
    "\n",
    " 1. Create a 1D NumPy array of the first 10 positive integers.\n",
    "\n",
    " 2. Create a 2x5 array of zeros.\n",
    "\n",
    " 3. Create a 4x4 identity matrix."
   ]
  },
  {
   "cell_type": "code",
   "execution_count": null,
   "metadata": {},
   "outputs": [],
   "source": [
    "# Your solution:\n",
    "# 1. Create a 1D NumPy array of the first 10 positive integers\n",
    "\n",
    "# 2. Create a 2x5 array of zeros\n",
    "\n",
    "# 3. Create a 4x4 identity matrix\n"
   ]
  },
  {
   "cell_type": "markdown",
   "metadata": {},
   "source": [
    " ## 2. Array Operations\n",
    "\n",
    "\n",
    "\n",
    " **Task:**\n",
    "\n",
    " Given the array `arr = np.array([5, 10, 15, 20, 25])`, do the following:\n",
    "\n",
    " 1. Multiply each element by 3.\n",
    "\n",
    " 2. Subtract 5 from each element.\n",
    "\n",
    " 3. Compute the sum of all elements in the resulting array."
   ]
  },
  {
   "cell_type": "code",
   "execution_count": null,
   "metadata": {},
   "outputs": [],
   "source": [
    "# Your solution:\n",
    "arr = np.array([5, 10, 15, 20, 25])\n",
    "\n",
    "# 1. Multiply each element by 3\n",
    "\n",
    "# 2. Subtract 5 from each element\n",
    "\n",
    "# 3. Compute the sum of all elements\n"
   ]
  },
  {
   "cell_type": "markdown",
   "metadata": {},
   "source": [
    " ## 3. Reshaping and Indexing\n",
    "\n",
    "\n",
    "\n",
    " **Task:**\n",
    "\n",
    " 1. Create a 1D array of integers from 1 to 12.\n",
    "\n",
    " 2. Reshape it into a 3x4 matrix.\n",
    "\n",
    " 3. Extract the element in the 2nd row, 3rd column.\n",
    "\n",
    " 4. Extract the first column as a 1D array."
   ]
  },
  {
   "cell_type": "code",
   "execution_count": null,
   "metadata": {},
   "outputs": [],
   "source": [
    "# Your solution:\n",
    "\n",
    "# 1. Create a 1D array of integers from 1 to 12\n",
    "\n",
    "# 2. Reshape it into a 3x4 matrix\n",
    "\n",
    "# 3. Extract the element in the 2nd row, 3rd column\n",
    "\n",
    "# 4. Extract the first column as a 1D array\n"
   ]
  },
  {
   "cell_type": "markdown",
   "metadata": {},
   "source": [
    " ## 4. Fancy Indexing\n",
    "\n",
    "\n",
    "\n",
    " **Task:**\n",
    "\n",
    " Given `arr = np.array([100, 200, 300, 400, 500])` and `indices = np.array([4, 0, 2])`:\n",
    "\n",
    " 1. Use fancy indexing to extract the elements at positions defined by `indices`.\n",
    "\n",
    " 2. Rearrange the extracted elements into descending order."
   ]
  },
  {
   "cell_type": "code",
   "execution_count": null,
   "metadata": {},
   "outputs": [],
   "source": [
    "# Your solution:\n",
    "arr = np.array([100, 200, 300, 400, 500])\n",
    "indices = np.array([4, 0, 2])\n",
    "\n",
    "# 1. Use fancy indexing to extract elements\n",
    "\n",
    "# 2. Rearrange the extracted elements into descending order\n"
   ]
  },
  {
   "cell_type": "markdown",
   "metadata": {},
   "source": [
    " ## 5. Boolean Masking\n",
    "\n",
    "\n",
    "\n",
    " **Task:**\n",
    "\n",
    " Given `arr = np.array([1, 4, 7, 10, 13, 16])`:\n",
    "\n",
    " 1. Create a boolean mask for elements greater than 8.\n",
    "\n",
    " 2. Use the mask to extract those elements.\n",
    "\n",
    " 3. Compute the mean of the extracted elements."
   ]
  },
  {
   "cell_type": "code",
   "execution_count": null,
   "metadata": {},
   "outputs": [],
   "source": [
    "# Your solution:\n",
    "arr = np.array([1, 4, 7, 10, 13, 16])\n",
    "\n",
    "# 1. Create a boolean mask for elements greater than 8\n",
    "\n",
    "# 2. Use the mask to extract those elements\n",
    "\n",
    "# 3. Compute the mean of the extracted elements\n"
   ]
  },
  {
   "cell_type": "markdown",
   "metadata": {},
   "source": [
    " ## 6. Broadcasting\n",
    "\n",
    "\n",
    "\n",
    " **Task:**\n",
    "\n",
    " Given the 2D array `a = np.array([[1, 2, 3], [4, 5, 6]])`:\n",
    "\n",
    " 1. Add the 1D array `b = np.array([10, 20, 30])` to each row of `a`.\n",
    "\n",
    " 2. Multiply each element of `a` by 2.\n",
    "\n",
    " 3. Compute the sum of all elements in the resulting array."
   ]
  },
  {
   "cell_type": "code",
   "execution_count": null,
   "metadata": {},
   "outputs": [],
   "source": [
    "# Your solution:\n",
    "a = np.array([[1, 2, 3], [4, 5, 6]])\n",
    "b = np.array([10, 20, 30])\n",
    "\n",
    "# 1. Add `b` to each row of `a`\n",
    "\n",
    "# 2. Multiply each element of `a` by 2\n",
    "\n",
    "# 3. Compute the sum of all elements\n"
   ]
  },
  {
   "cell_type": "markdown",
   "metadata": {},
   "source": [
    " ## 7. Random Array Utilities\n",
    "\n",
    "\n",
    "\n",
    " **Task:**\n",
    "\n",
    " 1. Generate a 3x3 array of random values uniformly distributed between 0 and 1.\n",
    "\n",
    " 2. Generate a 3x3 array of random values drawn from a standard normal distribution.\n",
    "\n",
    " 3. Compute the mean and standard deviation of each array."
   ]
  },
  {
   "cell_type": "code",
   "execution_count": null,
   "metadata": {},
   "outputs": [],
   "source": [
    "# Your solution:\n",
    "\n",
    "# 1. Generate a 3x3 array of random values uniformly distributed between 0 and 1\n",
    "\n",
    "# 2. Generate a 3x3 array of random values drawn from a standard normal distribution\n",
    "\n",
    "# 3. Compute the mean and standard deviation of each array\n"
   ]
  }
 ],
 "metadata": {
  "language_info": {
   "codemirror_mode": {
    "name": "ipython",
    "version": 3
   },
   "file_extension": ".py",
   "mimetype": "text/x-python",
   "name": "python",
   "nbconvert_exporter": "python",
   "pygments_lexer": "ipython3",
   "version": 3
  }
 },
 "nbformat": 4,
 "nbformat_minor": 2
}
