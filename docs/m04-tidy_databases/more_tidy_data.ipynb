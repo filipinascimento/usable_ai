{
 "cells": [
  {
   "cell_type": "markdown",
   "metadata": {},
   "source": [
    "# Lecture 9.5: More on Tidy Data\n",
    "\n",
    "\n",
    "\n",
    "With this I plan to convince you that **tidy data** is the way to go.\n",
    "\n",
    " \n",
    "\n",
    "This notebook demonstrates:\n",
    "\n",
    "\n",
    "\n",
    "1. How to convert *wide* to **tidy** format.\n",
    "\n",
    "2. How **filtering, grouping, and scaling** is more complicated in **wide** format compared to **tidy**.\n",
    "\n",
    "3. How **visualization** in Altair is also simpler with **tidy** data.\n",
    "\n",
    "\n",
    "\n",
    "---"
   ]
  },
  {
   "cell_type": "markdown",
   "metadata": {},
   "source": [
    "## 1. Imports and Setup"
   ]
  },
  {
   "cell_type": "code",
   "execution_count": null,
   "metadata": {},
   "outputs": [],
   "source": [
    "import pandas as pd\n",
    "import altair as alt"
   ]
  },
  {
   "cell_type": "markdown",
   "metadata": {},
   "source": [
    "## 2. Creating the Example Dataset (Wide Format)\n",
    "\n",
    "\n",
    "\n",
    "We start with a **wide** DataFrame: each region (`North`, `South`, `East`, `West`) is in its own column."
   ]
  },
  {
   "cell_type": "code",
   "execution_count": null,
   "metadata": {},
   "outputs": [],
   "source": [
    "wide_df = pd.DataFrame({\n",
    "    \"Year\":  [2020, 2021, 2022, 2023],\n",
    "    \"North\": [100, 150, 200, 250],\n",
    "    \"South\": [ 90, 130, 170, 220],\n",
    "    \"East\":  [ 80, 120, 160, 210],\n",
    "    \"West\":  [ 70, 110, 150, 200]\n",
    "})\n",
    "\n",
    "display(wide_df)\n"
   ]
  },
  {
   "cell_type": "markdown",
   "metadata": {},
   "source": [
    "## 3. Converting Wide to Tidy\n",
    "\n",
    "\n",
    "\n",
    "We use `pd.melt()` to **unpivot** the data so that each row represents a `(Year, Region, Sales)` combination."
   ]
  },
  {
   "cell_type": "code",
   "execution_count": null,
   "metadata": {},
   "outputs": [],
   "source": [
    "tidy_df = wide_df.melt(\n",
    "    id_vars=[\"Year\"], \n",
    "    var_name=\"Region\", \n",
    "    value_name=\"Sales\"\n",
    ")\n",
    "\n",
    "display(tidy_df)\n"
   ]
  },
  {
   "cell_type": "markdown",
   "metadata": {},
   "source": [
    "# 4. Filtering & Grouping\n",
    "\n",
    "\n",
    "\n",
    "We'll do two demonstrations:\n",
    "\n",
    "1. **Filtering** data for a specific region and year range.\n",
    "\n",
    "2. **Scaling** each region's values by its mean sales.\n",
    "\n",
    "\n",
    "\n",
    "---\n",
    "\n",
    "## 4.1 Filtering for the East region where `Year > 2021`"
   ]
  },
  {
   "cell_type": "markdown",
   "metadata": {},
   "source": [
    "### 4.1.1 Wide Format (Complicated)\n",
    "\n",
    "\n",
    "\n",
    "Since there's **no direct \"Region\" column**, we must manually pick the column (`East`) and rename it:"
   ]
  },
  {
   "cell_type": "code",
   "execution_count": null,
   "metadata": {},
   "outputs": [],
   "source": [
    "east_after_2021_wide = wide_df.loc[wide_df[\"Year\"] > 2021, [\"Year\", \"East\"]]\n",
    "# east_after_2021_wide = east_after_2021_wide.rename(columns={\"East\": \"Sales\"})\n",
    "display(east_after_2021_wide)\n"
   ]
  },
  {
   "cell_type": "markdown",
   "metadata": {},
   "source": [
    "### 4.1.2 Tidy Format (Easy)\n",
    "\n",
    "\n",
    "\n",
    "Just use `query(\"Region == 'East' and Year > 2021\")`:"
   ]
  },
  {
   "cell_type": "code",
   "execution_count": null,
   "metadata": {},
   "outputs": [],
   "source": [
    "east_after_2021_tidy = tidy_df.query(\"Region == 'East' and Year > 2021\")\n",
    "\n",
    "display(east_after_2021_tidy)\n"
   ]
  },
  {
   "cell_type": "markdown",
   "metadata": {},
   "source": [
    "## 4.2 Grouping & Scaling by the Mean\n",
    "\n",
    "\n",
    "\n",
    "**Task**: Divide each region's sales by that region's **mean** sales.\n",
    "\n",
    "\n",
    "\n",
    "### 4.2.1 Wide Format\n",
    "\n",
    "\n",
    "\n",
    "Compute the mean of each column and then **manually** scale:"
   ]
  },
  {
   "cell_type": "code",
   "execution_count": null,
   "metadata": {},
   "outputs": [],
   "source": [
    "import numpy as np\n",
    "\n",
    "mean_north = wide_df[\"North\"].mean()\n",
    "mean_south = wide_df[\"South\"].mean()\n",
    "mean_east  = wide_df[\"East\"].mean()\n",
    "mean_west  = wide_df[\"West\"].mean()\n",
    "\n",
    "scaled_wide = wide_df.copy()\n",
    "scaled_wide[\"North\"] = scaled_wide[\"North\"] / mean_north\n",
    "scaled_wide[\"South\"] = scaled_wide[\"South\"] / mean_south\n",
    "scaled_wide[\"East\"]  = scaled_wide[\"East\"]  / mean_east\n",
    "scaled_wide[\"West\"]  = scaled_wide[\"West\"]  / mean_west\n",
    "\n",
    "# a for could be used to avoid repetition, but it's still cumbersome\n",
    "\n",
    "display(scaled_wide)\n"
   ]
  },
  {
   "cell_type": "markdown",
   "metadata": {},
   "source": [
    "### 4.2.2 Tidy Format\n",
    "\n",
    "\n",
    "\n",
    "A single `.groupby(\"Region\")` and `.transform()` handles **all** regions:"
   ]
  },
  {
   "cell_type": "code",
   "execution_count": null,
   "metadata": {},
   "outputs": [],
   "source": [
    "scaled_tidy = tidy_df.copy()\n",
    "scaled_tidy[\"Sales_Scaled\"] = scaled_tidy.groupby(\"Region\")[\"Sales\"] \\\n",
    "                                         .transform(lambda x: x / x.mean())\n",
    "\n",
    "display(scaled_tidy)\n"
   ]
  },
  {
   "cell_type": "markdown",
   "metadata": {},
   "source": [
    "# 5. Visualization in Altair\n",
    "\n",
    "\n",
    "\n",
    "We'll create a simple line plot of **Sales** over **Year** for each region.\n",
    "\n",
    "\n",
    "\n",
    "---\n",
    "\n",
    "\n",
    "\n",
    "## 5.1 Wide Format\n",
    "\n",
    "\n",
    "\n",
    "### Option A: Layer each region's line separately"
   ]
  },
  {
   "cell_type": "code",
   "execution_count": null,
   "metadata": {},
   "outputs": [],
   "source": [
    "chart_north = alt.Chart(wide_df).mark_line(stroke='blue').encode(\n",
    "    x=\"Year:O\",\n",
    "    y=\"North:Q\"\n",
    ").properties(title=\"North\")\n",
    "\n",
    "chart_south = alt.Chart(wide_df).mark_line(stroke='red').encode(\n",
    "    x=\"Year:O\",\n",
    "    y=\"South:Q\"\n",
    ").properties(title=\"South\")\n",
    "\n",
    "chart_east = alt.Chart(wide_df).mark_line(stroke='green').encode(\n",
    "    x=\"Year:O\",\n",
    "    y=\"East:Q\"\n",
    ").properties(title=\"East\")\n",
    "\n",
    "chart_west = alt.Chart(wide_df).mark_line(stroke='orange').encode(\n",
    "    x=\"Year:O\",\n",
    "    y=\"West:Q\"\n",
    ").properties(title=\"West\")\n",
    "\n",
    "# compose the charts\n",
    "chart_wide_layered = alt.layer(chart_north, chart_south, chart_east, chart_west).properties(\n",
    "    width=400,\n",
    "    height=300\n",
    ")\n",
    "\n",
    "# Adding the legends would be a bit more work\n",
    "\n",
    "chart_wide_layered\n"
   ]
  },
  {
   "cell_type": "markdown",
   "metadata": {},
   "source": [
    "- We had to **manually** define a chart for each column (region).\n",
    "\n",
    "- Adding new regions or removing one requires extra lines of code.\n",
    "\n",
    "- Legends and other customizations would be more complex.\n",
    "\n",
    "\n",
    "\n",
    "### Option B: Use `transform_fold` to pivot columns inside Altair\n",
    "\n",
    "\n",
    "\n",
    "This is effectively using Altair to do what `melt()` does, but you must list **all** columns:"
   ]
  },
  {
   "cell_type": "code",
   "execution_count": null,
   "metadata": {},
   "outputs": [],
   "source": [
    "chart_wide_pivot = (\n",
    "    alt.Chart(wide_df)\n",
    "    .transform_fold( # this is like pd.melt()!!!!\n",
    "        fold=[\"North\",\"South\",\"East\",\"West\"],  # must list every region\n",
    "        as_=[\"Region\",\"Sales\"]\n",
    "    )\n",
    "    .mark_line()\n",
    "    .encode(\n",
    "        x=\"Year:O\",\n",
    "        y=\"Sales:Q\",\n",
    "        color=\"Region:N\"\n",
    "    )\n",
    "    .properties(\n",
    "        width=400,\n",
    "        height=300\n",
    "    )\n",
    ")\n",
    "\n",
    "chart_wide_pivot\n"
   ]
  },
  {
   "cell_type": "markdown",
   "metadata": {},
   "source": [
    "## 5.2 Tidy Format (So Much Simpler)\n",
    "\n",
    "\n",
    "\n",
    "A single command, no need to list the regions. Altair **automatically** creates multiple lines, coloring by `Region`."
   ]
  },
  {
   "cell_type": "code",
   "execution_count": null,
   "metadata": {},
   "outputs": [],
   "source": [
    "chart_tidy = alt.Chart(tidy_df).mark_bar().encode(\n",
    "    x=\"Year:O\",\n",
    "    y=\"Sales:Q\",\n",
    "    color=\"Region:N\"\n",
    ").properties(\n",
    "    width=400,\n",
    "    height=300\n",
    ").interactive()\n",
    "\n",
    "chart_tidy\n"
   ]
  },
  {
   "cell_type": "markdown",
   "metadata": {},
   "source": [
    "# 6. Final Comparison\n",
    "\n",
    "\n",
    "| **Action**               | **Wide Format**                                                       | **Tidy Format**                                                  |\n",
    "|:-------------------------|:----------------------------------------------------------------------|:-----------------------------------------------------------------|\n",
    "| **Filtering**            | Must pick & rename columns, no direct 'Region' column                 | Simple `query(\"Region=='X'\")`                                    |\n",
    "| **Grouping or Scaling**  | Repeat operations for each column (or do complex loops)               | Single `.groupby(\"Region\")` call                                 |\n",
    "| **Adding New Categories**| Must add **new columns** and update code                              | Rows just **grow**, existing code continues to work              |\n",
    "| **Visualization**        | Either layer each column manually or use `transform_fold`             | One-liner with `color=\"Region:N\"`                                |\n",
    "| **Code Complexity**      | High (lots of repeated steps, listing columns)                        | Low (concise, flexible)                                          |\n",
    "\n",
    "\n",
    "**Takeaway**: \n",
    "\n",
    "- **Tidy format** is recommended for most data science tasks because it avoids repetitive code, makes grouping/filtering straightforward, and integrates smoothly with visualization libraries like Altair, seaborn, etc.\n",
    "\n",
    "- **Wide format** can be okay for quick tasks or certain machine learning APIs, but it often becomes cumbersome when you need to filter, group, scale, or plot multiple categories.\n",
    "\n",
    "\n",
    "\n",
    "**Whenever possible, convert to tidy** to save time and headaches!"
   ]
  }
 ],
 "metadata": {
  "kernelspec": {
   "display_name": "dataviz",
   "language": "python",
   "name": "python3"
  },
  "language_info": {
   "codemirror_mode": {
    "name": "ipython",
    "version": 3
   },
   "file_extension": ".py",
   "mimetype": "text/x-python",
   "name": "python",
   "nbconvert_exporter": "python",
   "pygments_lexer": "ipython3",
   "version": "3.11.11"
  }
 },
 "nbformat": 4,
 "nbformat_minor": 2
}
